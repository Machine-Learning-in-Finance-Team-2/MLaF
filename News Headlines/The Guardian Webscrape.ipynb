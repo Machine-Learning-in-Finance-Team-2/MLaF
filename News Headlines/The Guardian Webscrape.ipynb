{
 "cells": [
  {
   "cell_type": "markdown",
   "metadata": {},
   "source": [
    "# Web Scraping: The Guardian"
   ]
  },
  {
   "cell_type": "markdown",
   "metadata": {},
   "source": [
    "Returns a dataset of all the major headlines from the financial section of The Guardian ranging from 2007 to today (6/2020)\n",
    "\n",
    "Dataset contains: headline, date, time, and link to article"
   ]
  },
  {
   "cell_type": "code",
   "execution_count": 1,
   "metadata": {},
   "outputs": [],
   "source": [
    "import requests\n",
    "from bs4 import BeautifulSoup\n",
    "import numpy as np\n",
    "import pandas as pd\n",
    "import time"
   ]
  },
  {
   "cell_type": "code",
   "execution_count": 127,
   "metadata": {},
   "outputs": [],
   "source": [
    "def get_news_theguardian(page):\n",
    "    \n",
    "    # url definition\n",
    "    url = \"https://www.theguardian.com/theguardian/mainsection/financial3\"\n",
    "    url = url + \"?page=\" + str(page)\n",
    "    \n",
    "    # Request\n",
    "    r1 = requests.get(url)\n",
    "    r1.status_code\n",
    "\n",
    "    # We'll save in coverpage the cover page content\n",
    "    coverpage = r1.content\n",
    "\n",
    "    # Soup creation\n",
    "    soup1 = BeautifulSoup(coverpage, 'html5lib')\n",
    "\n",
    "    # News identification\n",
    "    coverpage_news = soup1.find_all('h3', class_='fc-item__title')\n",
    "    \n",
    "    number_of_articles = len(coverpage_news)\n",
    "\n",
    "    # Empty lists for content, links and titles\n",
    "    list_links = []\n",
    "    list_titles = []\n",
    "    list_dates = []\n",
    "    list_times = []\n",
    "\n",
    "    for n in np.arange(0, number_of_articles):\n",
    "\n",
    "        # We need to ignore \"live\" pages since they are not articles\n",
    "        if \"live\" in coverpage_news[n].find('a')['href']:  \n",
    "            continue\n",
    "\n",
    "        # Getting the link of the article\n",
    "        link = coverpage_news[n].find('a')['href']\n",
    "        list_links.append(link)\n",
    "\n",
    "        # Getting the title\n",
    "        title = coverpage_news[n].find('a').get_text()\n",
    "        list_titles.append(title)\n",
    "\n",
    "        # Reading the content (it is divided in paragraphs)\n",
    "        article = requests.get(link)\n",
    "        article_content = article.content\n",
    "        soup_article = BeautifulSoup(article_content, 'html5lib')\n",
    "        dates = soup_article.find_all('meta', property=\"article:published_time\")\n",
    "        dateSoup = BeautifulSoup(str(dates))\n",
    "\n",
    "        #getting the date\n",
    "        date = dateSoup.meta['content'][:10]\n",
    "        list_dates.append(date)\n",
    "\n",
    "        #getting the time\n",
    "        time = dateSoup.meta['content'][11:19]\n",
    "        list_times.append(time)\n",
    "\n",
    "        # df_show_info\n",
    "        df_show_info = pd.DataFrame(\n",
    "        {'Article Title': list_titles,\n",
    "        'Article Date': list_dates,\n",
    "        'Article Time' :list_times,\n",
    "        'Article Link': list_links})\n",
    "    \n",
    "    return (df_show_info)"
   ]
  },
  {
   "cell_type": "code",
   "execution_count": null,
   "metadata": {},
   "outputs": [],
   "source": [
    "list_links = []\n",
    "list_titles = []\n",
    "list_dates = []\n",
    "list_times = []\n",
    "\n",
    "final_df = pd.DataFrame(\n",
    "{'Article Title': list_titles,\n",
    "'Article Date': list_dates,\n",
    "'Article Time' :list_times,\n",
    "'Article Link': list_links})\n",
    "\n",
    "#append info of each coverpage to final dataframe; theguardian has 1900 pages\n",
    "totalpages = 1900\n",
    "for page in range(totalpages):\n",
    "    final_df.append(get_news_theguardian(page))"
   ]
  },
  {
   "cell_type": "code",
   "execution_count": null,
   "metadata": {},
   "outputs": [],
   "source": [
    "final_df.head()"
   ]
  },
  {
   "cell_type": "code",
   "execution_count": null,
   "metadata": {},
   "outputs": [],
   "source": []
  }
 ],
 "metadata": {
  "kernelspec": {
   "display_name": "Python 3",
   "language": "python",
   "name": "python3"
  },
  "language_info": {
   "codemirror_mode": {
    "name": "ipython",
    "version": 3
   },
   "file_extension": ".py",
   "mimetype": "text/x-python",
   "name": "python",
   "nbconvert_exporter": "python",
   "pygments_lexer": "ipython3",
   "version": "3.7.6"
  }
 },
 "nbformat": 4,
 "nbformat_minor": 2
}
